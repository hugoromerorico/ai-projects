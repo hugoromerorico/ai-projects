{
 "cells": [
  {
   "cell_type": "code",
   "execution_count": null,
   "metadata": {},
   "outputs": [],
   "source": [
    "%pip install torch"
   ]
  },
  {
   "cell_type": "code",
   "execution_count": 1,
   "metadata": {},
   "outputs": [
    {
     "name": "stderr",
     "output_type": "stream",
     "text": [
      "/Users/hugoromero/anaconda3/envs/pytorch_learning/lib/python3.12/site-packages/torch/nn/modules/transformer.py:20: UserWarning: Failed to initialize NumPy: No module named 'numpy' (Triggered internally at /Users/runner/work/pytorch/pytorch/pytorch/torch/csrc/utils/tensor_numpy.cpp:84.)\n",
      "  device: torch.device = torch.device(torch._C._get_default_device()),  # torch.device('cpu'),\n"
     ]
    },
    {
     "name": "stdout",
     "output_type": "stream",
     "text": [
      "=== Simple Scalar Gradient ===\n",
      "dy/dx at x=2: tensor([4.])\n",
      "\n",
      "=== Vector Gradient ===\n",
      "Gradient with respect to x: tensor([10., 10.])\n",
      "\n",
      "=== Complex Function Gradient ===\n",
      "Gradient of sin(x)*e^(-x) at x=1: tensor([-0.1108])\n",
      "\n",
      "=== Neural Network-like Operations ===\n",
      "Gradient with respect to weights: tensor([1., 1.])\n"
     ]
    }
   ],
   "source": [
    "import torch\n",
    "\n",
    "# 1. Simple gradient calculation with a scalar\n",
    "print(\"=== Simple Scalar Gradient ===\")\n",
    "x = torch.tensor([2.0], requires_grad=True)\n",
    "y = x ** 2  # Simple quadratic function\n",
    "y.backward()  # Calculate gradient\n",
    "print(f\"dy/dx at x=2: {x.grad}\")  # Should be 4 (derivative of x^2 is 2x)\n",
    "\n",
    "# 2. Gradient with vector input\n",
    "print(\"\\n=== Vector Gradient ===\")\n",
    "x = torch.tensor([2.0, 3.0], requires_grad=True)\n",
    "y = x.sum() ** 2\n",
    "y.backward()\n",
    "print(f\"Gradient with respect to x: {x.grad}\")\n",
    "\n",
    "# 3. More complex function example\n",
    "print(\"\\n=== Complex Function Gradient ===\")\n",
    "x = torch.tensor([1.0], requires_grad=True)\n",
    "y = torch.sin(x) * torch.exp(-x)\n",
    "y.backward()\n",
    "print(f\"Gradient of sin(x)*e^(-x) at x=1: {x.grad}\")\n",
    "\n",
    "# 4. Gradient with neural network-like operations\n",
    "print(\"\\n=== Neural Network-like Operations ===\")\n",
    "weights = torch.tensor([1.0, 2.0], requires_grad=True)\n",
    "inputs = torch.tensor([1.0, 1.0])\n",
    "output = torch.sum(weights * inputs)\n",
    "output.backward()\n",
    "print(f\"Gradient with respect to weights: {weights.grad}\")"
   ]
  },
  {
   "cell_type": "code",
   "execution_count": 9,
   "metadata": {},
   "outputs": [
    {
     "name": "stdout",
     "output_type": "stream",
     "text": [
      "h1: tensor([0., 0.], grad_fn=<ReluBackward0>)\n",
      "h2: tensor([0.2000, 0.2000], grad_fn=<ReluBackward0>)\n",
      "output: tensor([0.6800, 0.7600], grad_fn=<AddBackward0>)\n",
      "Input shape: torch.Size([2])\n",
      "Output shape: torch.Size([2])\n",
      "Output values: tensor([0.6800, 0.7600], grad_fn=<AddBackward0>)\n",
      "W1 grad: None\n",
      "h1: tensor([0., 0.], grad_fn=<ReluBackward0>), None\n",
      "\n",
      "Gradients:\n",
      "W1 grad: tensor([[-0., -0.],\n",
      "        [-0., -0.]])\n",
      "W2 grad: tensor([[0., 0.],\n",
      "        [0., 0.]])\n",
      "W3 grad: tensor([[0.2000, 0.2000],\n",
      "        [0.2000, 0.2000]])\n",
      "b1 grad: tensor([0., 0.])\n",
      "b2 grad: tensor([2.0000, 2.2000])\n",
      "b3 grad: tensor([1., 1.])\n"
     ]
    },
    {
     "name": "stderr",
     "output_type": "stream",
     "text": [
      "/var/folders/_n/k9v7fs012jb8j6x25vn_6gyw0000gn/T/ipykernel_98385/3329944738.py:40: UserWarning: The .grad attribute of a Tensor that is not a leaf Tensor is being accessed. Its .grad attribute won't be populated during autograd.backward(). If you indeed want the .grad field to be populated for a non-leaf Tensor, use .retain_grad() on the non-leaf Tensor. If you access the non-leaf Tensor by mistake, make sure you access the leaf Tensor instead. See github.com/pytorch/pytorch/pull/30531 for more informations. (Triggered internally at /Users/runner/work/pytorch/pytorch/pytorch/build/aten/src/ATen/core/TensorBody.h:494.)\n",
      "  print(f\"h1: {h1}, {h1.grad}\")\n"
     ]
    }
   ],
   "source": [
    "# Define the network parameters\n",
    "# First layer weights and biases\n",
    "W1 = torch.tensor([[0.1, 0.2], \n",
    "                   [0.3, 0.4]], requires_grad=True)\n",
    "b1 = torch.tensor([0.1, 0.1], requires_grad=True)\n",
    "\n",
    "# Second layer weights and biases\n",
    "W2 = torch.tensor([[0.5, 0.6],\n",
    "                   [0.7, 0.8]], requires_grad=True)\n",
    "b2 = torch.tensor([0.2, 0.2], requires_grad=True)\n",
    "\n",
    "# Third layer weights and biases\n",
    "W3 = torch.tensor([[0.9, 1.0],\n",
    "                   [1.1, 1.2]], requires_grad=True)\n",
    "b3 = torch.tensor([0.3, 0.3], requires_grad=True)\n",
    "\n",
    "# Input data\n",
    "x = torch.tensor([-1.0, -2.0])\n",
    "\n",
    "# Forward pass\n",
    "# First layer with ReLU activation\n",
    "h1 = torch.relu(torch.matmul(W1, x) + b1)\n",
    "print(f\"h1: {h1}\"   )\n",
    "\n",
    "# Second layer with ReLU activation\n",
    "h2 = torch.relu(torch.matmul(W2, h1) + b2)\n",
    "print(f\"h2: {h2}\")\n",
    "# Output layer (no activation for simplicity)\n",
    "output = torch.matmul(W3, h2) + b3\n",
    "print(f\"output: {output}\")\n",
    "\n",
    "print(f\"Input shape: {x.shape}\")\n",
    "print(f\"Output shape: {output.shape}\")\n",
    "print(f\"Output values: {output}\")\n",
    "\n",
    "# Calculate gradients (example with sum of outputs as loss)\n",
    "loss = output.sum()\n",
    "print(f\"W1 grad: {W1.grad}\")\n",
    "loss.backward()\n",
    "print(f\"h1: {h1}, {h1.grad}\")\n",
    "\n",
    "print(\"\\nGradients:\")\n",
    "print(f\"W1 grad: {W1.grad}\")\n",
    "print(f\"W2 grad: {W2.grad}\")\n",
    "print(f\"W3 grad: {W3.grad}\")\n",
    "\n",
    "print(f\"b1 grad: {b1.grad}\")\n",
    "print(f\"b2 grad: {b2.grad}\")\n",
    "print(f\"b3 grad: {b3.grad}\")"
   ]
  },
  {
   "cell_type": "code",
   "execution_count": 13,
   "metadata": {},
   "outputs": [
    {
     "name": "stdout",
     "output_type": "stream",
     "text": [
      "Expected int but got <class 'str'>\n"
     ]
    }
   ],
   "source": [
    "hello = \"a\"\n",
    "try:\n",
    "    assert isinstance(hello, int), f\"Expected int but got {type(hello)}\"\n",
    "except Exception as e:\n",
    "    print(e)\n",
    "\n"
   ]
  },
  {
   "cell_type": "code",
   "execution_count": 14,
   "metadata": {},
   "outputs": [
    {
     "name": "stdout",
     "output_type": "stream",
     "text": [
      "AssertionError: \n",
      "Expected int but got <class 'str'>\n"
     ]
    }
   ],
   "source": [
    "hello = \"a\"\n",
    "try:\n",
    "    assert isinstance(hello, int)\n",
    "except AssertionError as e:  # More specific exception\n",
    "    print(f\"AssertionError: {e}\")  # Add more descriptive message\n",
    "    print(f\"Expected int but got {type(hello)}\")"
   ]
  },
  {
   "cell_type": "code",
   "execution_count": 15,
   "metadata": {},
   "outputs": [],
   "source": [
    "\n",
    "class Value:\n",
    "    \"\"\" stores a single scalar value and its gradient \"\"\"\n",
    "\n",
    "    def __init__(self, data, _children=(), _op=''):\n",
    "        self.data = data\n",
    "        self.grad = 0\n",
    "        # internal variables used for autograd graph construction\n",
    "        self._backward = lambda: None\n",
    "        self._prev = set(_children)\n",
    "        self._op = _op # the op that produced this node, for graphviz / debugging / etc\n",
    "\n",
    "    def __add__(self, other):\n",
    "        other = other if isinstance(other, Value) else Value(other)\n",
    "        out = Value(self.data + other.data, (self, other), '+')\n",
    "\n",
    "        def _backward():\n",
    "            self.grad += out.grad\n",
    "            other.grad += out.grad\n",
    "        out._backward = _backward\n",
    "\n",
    "        return out\n",
    "\n",
    "    def __mul__(self, other):\n",
    "        other = other if isinstance(other, Value) else Value(other)\n",
    "        out = Value(self.data * other.data, (self, other), '*')\n",
    "\n",
    "        def _backward():\n",
    "            self.grad += other.data * out.grad\n",
    "            other.grad += self.data * out.grad\n",
    "        out._backward = _backward\n",
    "\n",
    "        return out\n",
    "\n",
    "    def __pow__(self, other):\n",
    "        assert isinstance(other, (int, float)), \"only supporting int/float powers for now\"\n",
    "        out = Value(self.data**other, (self,), f'**{other}')\n",
    "\n",
    "        def _backward():\n",
    "            self.grad += (other * self.data**(other-1)) * out.grad\n",
    "        out._backward = _backward\n",
    "\n",
    "        return out\n",
    "\n",
    "    def relu(self):\n",
    "        out = Value(0 if self.data < 0 else self.data, (self,), 'ReLU')\n",
    "\n",
    "        def _backward():\n",
    "            self.grad += (out.data > 0) * out.grad\n",
    "        out._backward = _backward\n",
    "\n",
    "        return out\n",
    "\n",
    "    def backward(self):\n",
    "\n",
    "        # topological order all of the children in the graph\n",
    "        topo = []\n",
    "        visited = set()\n",
    "        def build_topo(v):\n",
    "            if v not in visited:\n",
    "                visited.add(v)\n",
    "                for child in v._prev:\n",
    "                    build_topo(child)\n",
    "                topo.append(v)\n",
    "        build_topo(self)\n",
    "\n",
    "        # go one variable at a time and apply the chain rule to get its gradient\n",
    "        self.grad = 1\n",
    "        for v in reversed(topo):\n",
    "            v._backward()\n",
    "\n",
    "    def __neg__(self): # -self\n",
    "        return self * -1\n",
    "\n",
    "    def __radd__(self, other): # other + self\n",
    "        return self + other\n",
    "\n",
    "    def __sub__(self, other): # self - other\n",
    "        return self + (-other)\n",
    "\n",
    "    def __rsub__(self, other): # other - self\n",
    "        return other + (-self)\n",
    "\n",
    "    def __rmul__(self, other): # other * self\n",
    "        return self * other\n",
    "\n",
    "    def __truediv__(self, other): # self / other\n",
    "        return self * other**-1\n",
    "\n",
    "    def __rtruediv__(self, other): # other / self\n",
    "        return other * self**-1\n",
    "\n",
    "    def __repr__(self):\n",
    "        return f\"Value(data={self.data}, grad={self.grad})\""
   ]
  },
  {
   "cell_type": "code",
   "execution_count": 35,
   "metadata": {},
   "outputs": [],
   "source": [
    "w1 = Value(1.0)\n",
    "w2 = Value(2.0)\n",
    "b1 = Value(0.1)\n",
    "x1 = Value(-1.0)\n",
    "x2 = Value(-2.0)\n",
    "\n",
    "h1 = w1 * x1 + b1\n",
    "h2 = w2 * x2\n",
    "\n",
    "# o = h1 * h2\n",
    "o = h1 * h2**2\n",
    "\n"
   ]
  },
  {
   "cell_type": "code",
   "execution_count": 36,
   "metadata": {},
   "outputs": [
    {
     "name": "stdout",
     "output_type": "stream",
     "text": [
      "o: Value(data=-14.4, grad=1)\n",
      "w1 Value(data=1.0, grad=-16.0)\n",
      "w2 Value(data=2.0, grad=-14.4)\n",
      "b1 Value(data=0.1, grad=16.0)\n",
      "x1 Value(data=-1.0, grad=16.0)\n",
      "x2 Value(data=-2.0, grad=14.4)\n",
      "h1 Value(data=-0.9, grad=16.0)\n",
      "h2 Value(data=-4.0, grad=7.2)\n"
     ]
    }
   ],
   "source": [
    "o.backward()\n",
    "print(f\"o: {o}\")\n",
    "print(f\"w1 {w1}\")\n",
    "print(f\"w2 {w2}\")\n",
    "print(f\"b1 {b1}\")\n",
    "print(f\"x1 {x1}\")\n",
    "print(f\"x2 {x2}\")\n",
    "print(f\"h1 {h1}\")\n",
    "print(f\"h2 {h2}\")\n"
   ]
  }
 ],
 "metadata": {
  "kernelspec": {
   "display_name": "pytorch_learning",
   "language": "python",
   "name": "python3"
  },
  "language_info": {
   "codemirror_mode": {
    "name": "ipython",
    "version": 3
   },
   "file_extension": ".py",
   "mimetype": "text/x-python",
   "name": "python",
   "nbconvert_exporter": "python",
   "pygments_lexer": "ipython3",
   "version": "3.12.7"
  }
 },
 "nbformat": 4,
 "nbformat_minor": 2
}
