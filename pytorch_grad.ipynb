{
 "cells": [
  {
   "cell_type": "code",
   "execution_count": null,
   "metadata": {},
   "outputs": [],
   "source": [
    "%pip install torch"
   ]
  },
  {
   "cell_type": "code",
   "execution_count": null,
   "metadata": {},
   "outputs": [],
   "source": [
    "import torch\n",
    "\n",
    "# 1. Simple gradient calculation with a scalar\n",
    "print(\"=== Simple Scalar Gradient ===\")\n",
    "x = torch.tensor([2.0], requires_grad=True)\n",
    "y = x ** 2  # Simple quadratic function\n",
    "y.backward()  # Calculate gradient\n",
    "print(f\"dy/dx at x=2: {x.grad}\")  # Should be 4 (derivative of x^2 is 2x)\n",
    "\n",
    "# 2. Gradient with vector input\n",
    "print(\"\\n=== Vector Gradient ===\")\n",
    "x = torch.tensor([2.0, 3.0], requires_grad=True)\n",
    "y = x.sum() ** 2\n",
    "y.backward()\n",
    "print(f\"Gradient with respect to x: {x.grad}\")\n",
    "\n",
    "# 3. More complex function example\n",
    "print(\"\\n=== Complex Function Gradient ===\")\n",
    "x = torch.tensor([1.0], requires_grad=True)\n",
    "y = torch.sin(x) * torch.exp(-x)\n",
    "y.backward()\n",
    "print(f\"Gradient of sin(x)*e^(-x) at x=1: {x.grad}\")\n",
    "\n",
    "# 4. Gradient with neural network-like operations\n",
    "print(\"\\n=== Neural Network-like Operations ===\")\n",
    "weights = torch.tensor([1.0, 2.0], requires_grad=True)\n",
    "inputs = torch.tensor([1.0, 1.0])\n",
    "output = torch.sum(weights * inputs)\n",
    "output.backward()\n",
    "print(f\"Gradient with respect to weights: {weights.grad}\")"
   ]
  }
 ],
 "metadata": {
  "language_info": {
   "name": "python"
  }
 },
 "nbformat": 4,
 "nbformat_minor": 2
}
